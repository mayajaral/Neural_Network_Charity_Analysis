{
 "cells": [
  {
   "cell_type": "code",
   "execution_count": 1,
   "metadata": {},
   "outputs": [],
   "source": [
    "# Import our dependencies\n",
    "import pandas as pd\n",
    "import matplotlib as plt\n",
    "from sklearn.datasets import make_blobs\n",
    "import sklearn as skl\n",
    "import tensorflow as tf"
   ]
  },
  {
   "cell_type": "code",
   "execution_count": 2,
   "metadata": {},
   "outputs": [
    {
     "data": {
      "text/plain": [
       "<matplotlib.axes._subplots.AxesSubplot at 0x24b1d455688>"
      ]
     },
     "execution_count": 2,
     "metadata": {},
     "output_type": "execute_result"
    },
    {
     "data": {
      "image/png": "[encoded data removed]",
      "text/plain": [
       "<Figure size 432x288 with 2 Axes>"
      ]
     },
     "metadata": {
      "needs_background": "light"
     },
     "output_type": "display_data"
    }
   ],
   "source": [
    "# Generate dummy dataset\n",
    "X, y = make_blobs(n_samples=1000, centers=2, n_features=2, random_state=78)\n",
    "\n",
    "# Creating a DataFrame with the dummy data\n",
    "df = pd.DataFrame(X, columns=[\"Feature 1\", \"Feature 2\"])\n",
    "df[\"Target\"] = y\n",
    "\n",
    "# Plotting the dummy data\n",
    "df.plot.scatter(x=\"Feature 1\", y=\"Feature 2\", c=\"Target\", colormap=\"winter\")"
   ]
  },
  {
   "cell_type": "code",
   "execution_count": 3,
   "metadata": {},
   "outputs": [],
   "source": [
    "# Use sklearn to split dataset\n",
    "from sklearn.model_selection import train_test_split\n",
    "X_train, X_test, y_train, y_test = train_test_split(X, y, random_state=78)"
   ]
  },
  {
   "cell_type": "code",
   "execution_count": 4,
   "metadata": {},
   "outputs": [],
   "source": [
    "# Create scaler instance\n",
    "X_scaler = skl.preprocessing.StandardScaler()\n",
    "\n",
    "# Fit the scaler\n",
    "X_scaler.fit(X_train)\n",
    "\n",
    "# Scale the data\n",
    "X_train_scaled = X_scaler.transform(X_train)\n",
    "X_test_scaled = X_scaler.transform(X_test)"
   ]
  },
  {
   "cell_type": "code",
   "execution_count": 5,
   "metadata": {},
   "outputs": [],
   "source": [
    "# Create the Keras Sequential model\n",
    "nn_model = tf.keras.models.Sequential()"
   ]
  },
  {
   "cell_type": "code",
   "execution_count": 6,
   "metadata": {},
   "outputs": [],
   "source": [
    "# Add our first Dense layer, including the input layer\n",
    "nn_model.add(tf.keras.layers.Dense(units=1, activation=\"relu\", input_dim=2))\n",
    "nn_model.add(tf.keras.layers.Dense(units=1, activation=\"relu\", input_dim=2))"
   ]
  },
  {
   "cell_type": "code",
   "execution_count": 7,
   "metadata": {},
   "outputs": [
    {
     "name": "stdout",
     "output_type": "stream",
     "text": [
      "Model: \"sequential\"\n",
      "_________________________________________________________________\n",
      "Layer (type)                 Output Shape              Param #   \n",
      "=================================================================\n",
      "dense (Dense)                (None, 1)                 3         \n",
      "_________________________________________________________________\n",
      "dense_1 (Dense)              (None, 1)                 2         \n",
      "=================================================================\n",
      "Total params: 5\n",
      "Trainable params: 5\n",
      "Non-trainable params: 0\n",
      "_________________________________________________________________\n"
     ]
    }
   ],
   "source": [
    "# Check the structure of the Sequential model\n",
    "nn_model.summary()"
   ]
  },
  {
   "cell_type": "code",
   "execution_count": 8,
   "metadata": {},
   "outputs": [],
   "source": [
    "# Compile the Sequential model together and customize metrics\n",
    "nn_model.compile(loss=\"binary_crossentropy\", optimizer=\"adam\", metrics=[\"accuracy\"])"
   ]
  },
  {
   "cell_type": "code",
   "execution_count": 9,
   "metadata": {},
   "outputs": [
    {
     "name": "stdout",
     "output_type": "stream",
     "text": [
      "Epoch 1/100\n",
      "24/24 [==============================] - 1s 1ms/step - loss: 14.9736 - accuracy: 0.0018 \n",
      "Epoch 2/100\n",
      "24/24 [==============================] - 0s 1ms/step - loss: 14.8330 - accuracy: 0.0019\n",
      "Epoch 3/100\n",
      "24/24 [==============================] - 0s 1ms/step - loss: 14.6984 - accuracy: 0.0180\n",
      "Epoch 4/100\n",
      "24/24 [==============================] - 0s 1ms/step - loss: 14.8279 - accuracy: 0.0062\n",
      "Epoch 5/100\n",
      "24/24 [==============================] - 0s 1ms/step - loss: 14.5058 - accuracy: 0.0090\n",
      "Epoch 6/100\n",
      "24/24 [==============================] - 0s 1ms/step - loss: 14.4109 - accuracy: 0.0135\n",
      "Epoch 7/100\n",
      "24/24 [==============================] - 0s 1ms/step - loss: 14.5063 - accuracy: 0.0079\n",
      "Epoch 8/100\n",
      "24/24 [==============================] - 0s 2ms/step - loss: 14.3000 - accuracy: 0.0090\n",
      "Epoch 9/100\n",
      "24/24 [==============================] - 0s 1ms/step - loss: 14.0388 - accuracy: 0.0152\n",
      "Epoch 10/100\n",
      "24/24 [==============================] - 0s 1ms/step - loss: 13.8376 - accuracy: 0.0108\n",
      "Epoch 11/100\n",
      "24/24 [==============================] - 0s 1ms/step - loss: 14.1039 - accuracy: 0.0119\n",
      "Epoch 12/100\n",
      "24/24 [==============================] - 0s 2ms/step - loss: 13.6806 - accuracy: 0.0186\n",
      "Epoch 13/100\n",
      "24/24 [==============================] - 0s 1ms/step - loss: 13.6609 - accuracy: 0.0122\n",
      "Epoch 14/100\n",
      "24/24 [==============================] - 0s 2ms/step - loss: 13.1834 - accuracy: 0.0182\n",
      "Epoch 15/100\n",
      "24/24 [==============================] - 0s 2ms/step - loss: 13.0609 - accuracy: 0.0350\n",
      "Epoch 16/100\n",
      "24/24 [==============================] - 0s 2ms/step - loss: 12.7833 - accuracy: 0.0410\n",
      "Epoch 17/100\n",
      "24/24 [==============================] - 0s 2ms/step - loss: 12.5547 - accuracy: 0.0357\n",
      "Epoch 18/100\n",
      "24/24 [==============================] - 0s 1ms/step - loss: 12.4944 - accuracy: 0.0382\n",
      "Epoch 19/100\n",
      "24/24 [==============================] - 0s 1ms/step - loss: 12.8947 - accuracy: 0.0366\n",
      "Epoch 20/100\n",
      "24/24 [==============================] - 0s 1ms/step - loss: 12.8098 - accuracy: 0.0334\n",
      "Epoch 21/100\n",
      "24/24 [==============================] - 0s 1ms/step - loss: 12.6129 - accuracy: 0.0371\n",
      "Epoch 22/100\n",
      "24/24 [==============================] - 0s 1ms/step - loss: 12.7115 - accuracy: 0.0358\n",
      "Epoch 23/100\n",
      "24/24 [==============================] - 0s 2ms/step - loss: 12.2805 - accuracy: 0.0323\n",
      "Epoch 24/100\n",
      "24/24 [==============================] - 0s 1ms/step - loss: 12.8166 - accuracy: 0.0395\n",
      "Epoch 25/100\n",
      "24/24 [==============================] - 0s 1ms/step - loss: 12.3216 - accuracy: 0.0478\n",
      "Epoch 26/100\n",
      "24/24 [==============================] - 0s 2ms/step - loss: 12.5531 - accuracy: 0.0381\n",
      "Epoch 27/100\n",
      "24/24 [==============================] - 0s 1ms/step - loss: 12.3241 - accuracy: 0.0462\n",
      "Epoch 28/100\n",
      "24/24 [==============================] - 0s 2ms/step - loss: 12.3466 - accuracy: 0.0462\n",
      "Epoch 29/100\n",
      "24/24 [==============================] - 0s 2ms/step - loss: 12.0057 - accuracy: 0.0504\n",
      "Epoch 30/100\n",
      "24/24 [==============================] - 0s 1ms/step - loss: 12.1555 - accuracy: 0.0577\n",
      "Epoch 31/100\n",
      "24/24 [==============================] - 0s 1ms/step - loss: 11.3164 - accuracy: 0.0678\n",
      "Epoch 32/100\n",
      "24/24 [==============================] - 0s 1ms/step - loss: 10.9536 - accuracy: 0.0929\n",
      "Epoch 33/100\n",
      "24/24 [==============================] - 0s 1ms/step - loss: 11.6691 - accuracy: 0.0652\n",
      "Epoch 34/100\n",
      "24/24 [==============================] - 0s 1ms/step - loss: 11.2406 - accuracy: 0.0616\n",
      "Epoch 35/100\n",
      "24/24 [==============================] - 0s 1ms/step - loss: 11.1185 - accuracy: 0.0706\n",
      "Epoch 36/100\n",
      "24/24 [==============================] - 0s 1ms/step - loss: 10.6814 - accuracy: 0.0799\n",
      "Epoch 37/100\n",
      "24/24 [==============================] - 0s 1ms/step - loss: 10.8594 - accuracy: 0.0722\n",
      "Epoch 38/100\n",
      "24/24 [==============================] - 0s 1ms/step - loss: 10.4724 - accuracy: 0.1088\n",
      "Epoch 39/100\n",
      "24/24 [==============================] - 0s 2ms/step - loss: 10.5376 - accuracy: 0.0956\n",
      "Epoch 40/100\n",
      "24/24 [==============================] - 0s 2ms/step - loss: 10.1860 - accuracy: 0.1046\n",
      "Epoch 41/100\n",
      "24/24 [==============================] - 0s 2ms/step - loss: 10.4244 - accuracy: 0.1084\n",
      "Epoch 42/100\n",
      "24/24 [==============================] - 0s 1ms/step - loss: 10.2672 - accuracy: 0.1007\n",
      "Epoch 43/100\n",
      "24/24 [==============================] - 0s 2ms/step - loss: 10.0135 - accuracy: 0.1076\n",
      "Epoch 44/100\n",
      "24/24 [==============================] - 0s 2ms/step - loss: 10.1849 - accuracy: 0.1085\n",
      "Epoch 45/100\n",
      "24/24 [==============================] - 0s 2ms/step - loss: 10.0861 - accuracy: 0.1185\n",
      "Epoch 46/100\n",
      "24/24 [==============================] - 0s 2ms/step - loss: 9.9678 - accuracy: 0.1361\n",
      "Epoch 47/100\n",
      "24/24 [==============================] - 0s 2ms/step - loss: 9.6014 - accuracy: 0.1272\n",
      "Epoch 48/100\n",
      "24/24 [==============================] - 0s 2ms/step - loss: 9.1556 - accuracy: 0.1479\n",
      "Epoch 49/100\n",
      "24/24 [==============================] - 0s 2ms/step - loss: 9.5819 - accuracy: 0.1515\n",
      "Epoch 50/100\n",
      "24/24 [==============================] - 0s 1ms/step - loss: 9.3460 - accuracy: 0.1680\n",
      "Epoch 51/100\n",
      "24/24 [==============================] - 0s 1ms/step - loss: 9.2242 - accuracy: 0.1812\n",
      "Epoch 52/100\n",
      "24/24 [==============================] - 0s 1ms/step - loss: 9.1964 - accuracy: 0.1680\n",
      "Epoch 53/100\n",
      "24/24 [==============================] - 0s 1ms/step - loss: 9.1815 - accuracy: 0.1726\n",
      "Epoch 54/100\n",
      "24/24 [==============================] - 0s 1ms/step - loss: 8.7555 - accuracy: 0.2036\n",
      "Epoch 55/100\n",
      "24/24 [==============================] - 0s 1ms/step - loss: 8.9394 - accuracy: 0.1794\n",
      "Epoch 56/100\n",
      "24/24 [==============================] - 0s 1ms/step - loss: 9.1931 - accuracy: 0.1797\n",
      "Epoch 57/100\n",
      "24/24 [==============================] - 0s 1ms/step - loss: 8.5191 - accuracy: 0.2002\n",
      "Epoch 58/100\n",
      "24/24 [==============================] - 0s 1ms/step - loss: 8.8222 - accuracy: 0.1905\n",
      "Epoch 59/100\n",
      "24/24 [==============================] - 0s 1ms/step - loss: 8.8744 - accuracy: 0.1999\n",
      "Epoch 60/100\n",
      "24/24 [==============================] - 0s 1ms/step - loss: 8.8405 - accuracy: 0.1746\n",
      "Epoch 61/100\n",
      "24/24 [==============================] - 0s 1ms/step - loss: 8.5337 - accuracy: 0.1961\n",
      "Epoch 62/100\n",
      "24/24 [==============================] - 0s 1ms/step - loss: 9.0369 - accuracy: 0.1954\n",
      "Epoch 63/100\n",
      "24/24 [==============================] - 0s 1ms/step - loss: 8.3800 - accuracy: 0.2057\n",
      "Epoch 64/100\n",
      "24/24 [==============================] - 0s 1ms/step - loss: 8.2768 - accuracy: 0.2239\n",
      "Epoch 65/100\n",
      "24/24 [==============================] - 0s 1ms/step - loss: 8.2080 - accuracy: 0.2212\n",
      "Epoch 66/100\n",
      "24/24 [==============================] - 0s 1ms/step - loss: 8.7288 - accuracy: 0.2130\n",
      "Epoch 67/100\n",
      "24/24 [==============================] - 0s 1ms/step - loss: 8.5646 - accuracy: 0.2301\n",
      "Epoch 68/100\n",
      "24/24 [==============================] - 0s 1ms/step - loss: 8.4234 - accuracy: 0.2209\n",
      "Epoch 69/100\n",
      "24/24 [==============================] - 0s 1ms/step - loss: 7.6286 - accuracy: 0.2508\n",
      "Epoch 70/100\n",
      "24/24 [==============================] - 0s 1ms/step - loss: 8.4258 - accuracy: 0.2308\n",
      "Epoch 71/100\n",
      "24/24 [==============================] - 0s 1ms/step - loss: 7.6939 - accuracy: 0.2537\n",
      "Epoch 72/100\n",
      "24/24 [==============================] - 0s 1ms/step - loss: 8.1431 - accuracy: 0.2496\n",
      "Epoch 73/100\n",
      "24/24 [==============================] - 0s 1ms/step - loss: 8.3838 - accuracy: 0.2296\n",
      "Epoch 74/100\n",
      "24/24 [==============================] - 0s 1ms/step - loss: 7.9853 - accuracy: 0.2809\n",
      "Epoch 75/100\n",
      "24/24 [==============================] - 0s 1ms/step - loss: 8.3227 - accuracy: 0.2579\n",
      "Epoch 76/100\n",
      "24/24 [==============================] - 0s 1ms/step - loss: 7.8720 - accuracy: 0.2679\n",
      "Epoch 77/100\n",
      "24/24 [==============================] - 0s 1ms/step - loss: 8.5318 - accuracy: 0.2608\n",
      "Epoch 78/100\n",
      "24/24 [==============================] - 0s 1ms/step - loss: 8.1301 - accuracy: 0.2907\n",
      "Epoch 79/100\n",
      "24/24 [==============================] - 0s 1ms/step - loss: 7.5885 - accuracy: 0.3075\n",
      "Epoch 80/100\n",
      "24/24 [==============================] - 0s 1ms/step - loss: 8.0180 - accuracy: 0.3000\n",
      "Epoch 81/100\n",
      "24/24 [==============================] - 0s 1ms/step - loss: 8.2058 - accuracy: 0.2924\n",
      "Epoch 82/100\n",
      "24/24 [==============================] - 0s 1ms/step - loss: 8.1763 - accuracy: 0.2912\n",
      "Epoch 83/100\n",
      "24/24 [==============================] - ETA: 0s - loss: 7.6474 - accuracy: 0.31 - 0s 1ms/step - loss: 8.0300 - accuracy: 0.3205\n",
      "Epoch 84/100\n",
      "24/24 [==============================] - 0s 1ms/step - loss: 8.1076 - accuracy: 0.2997\n",
      "Epoch 85/100\n",
      "24/24 [==============================] - 0s 1ms/step - loss: 8.2108 - accuracy: 0.3166\n",
      "Epoch 86/100\n",
      "24/24 [==============================] - 0s 1ms/step - loss: 7.7864 - accuracy: 0.3484\n",
      "Epoch 87/100\n",
      "24/24 [==============================] - 0s 694us/step - loss: 7.9480 - accuracy: 0.3269\n",
      "Epoch 88/100\n",
      "24/24 [==============================] - 0s 1ms/step - loss: 7.9262 - accuracy: 0.3209\n",
      "Epoch 89/100\n",
      "24/24 [==============================] - 0s 780us/step - loss: 7.9918 - accuracy: 0.3217\n",
      "Epoch 90/100\n",
      "24/24 [==============================] - 0s 911us/step - loss: 7.8957 - accuracy: 0.3270\n",
      "Epoch 91/100\n",
      "24/24 [==============================] - 0s 1ms/step - loss: 7.8479 - accuracy: 0.3395\n",
      "Epoch 92/100\n",
      "24/24 [==============================] - 0s 1ms/step - loss: 8.0000 - accuracy: 0.3375\n",
      "Epoch 93/100\n",
      "24/24 [==============================] - 0s 867us/step - loss: 8.0435 - accuracy: 0.3092\n",
      "Epoch 94/100\n",
      "24/24 [==============================] - 0s 998us/step - loss: 7.7524 - accuracy: 0.3549\n",
      "Epoch 95/100\n",
      "24/24 [==============================] - 0s 954us/step - loss: 8.2145 - accuracy: 0.3373\n",
      "Epoch 96/100\n",
      "24/24 [==============================] - 0s 999us/step - loss: 7.9875 - accuracy: 0.3470\n",
      "Epoch 97/100\n",
      "24/24 [==============================] - 0s 1ms/step - loss: 7.7885 - accuracy: 0.3857\n",
      "Epoch 98/100\n",
      "24/24 [==============================] - 0s 998us/step - loss: 8.0403 - accuracy: 0.3625\n",
      "Epoch 99/100\n",
      "24/24 [==============================] - 0s 995us/step - loss: 7.8972 - accuracy: 0.3598\n",
      "Epoch 100/100\n",
      "24/24 [==============================] - 0s 1ms/step - loss: 7.8294 - accuracy: 0.3620\n"
     ]
    }
   ],
   "source": [
    "# Fit the model to the training data\n",
    "fit_model = nn_model.fit(X_train_scaled, y_train, epochs=100)"
   ]
  },
  {
   "cell_type": "code",
   "execution_count": 10,
   "metadata": {},
   "outputs": [
    {
     "data": {
      "text/plain": [
       "<matplotlib.axes._subplots.AxesSubplot at 0x24b1fb9f208>"
      ]
     },
     "execution_count": 10,
     "metadata": {},
     "output_type": "execute_result"
    },
    {
     "data": {
      "image/png": "[encoded data removed]",
      "text/plain": [
       "<Figure size 432x288 with 1 Axes>"
      ]
     },
     "metadata": {
      "needs_background": "light"
     },
     "output_type": "display_data"
    }
   ],
   "source": [
    "# Create a DataFrame containing training history\n",
    "history_df = pd.DataFrame(fit_model.history, index=range(1,len(fit_model.history[\"loss\"])+1))\n",
    "\n",
    "# Plot the loss\n",
    "history_df.plot(y=\"loss\")"
   ]
  },
  {
   "cell_type": "code",
   "execution_count": 11,
   "metadata": {},
   "outputs": [
    {
     "data": {
      "text/plain": [
       "<matplotlib.axes._subplots.AxesSubplot at 0x24b1fc1b6c8>"
      ]
     },
     "execution_count": 11,
     "metadata": {},
     "output_type": "execute_result"
    },
    {
     "data": {
      "image/png": "[encoded data removed]",
      "text/plain": [
       "<Figure size 432x288 with 1 Axes>"
      ]
     },
     "metadata": {
      "needs_background": "light"
     },
     "output_type": "display_data"
    }
   ],
   "source": [
    "# Plot the accuracy\n",
    "history_df.plot(y=\"accuracy\")"
   ]
  },
  {
   "cell_type": "code",
   "execution_count": 12,
   "metadata": {},
   "outputs": [
    {
     "name": "stdout",
     "output_type": "stream",
     "text": [
      "8/8 - 0s - loss: 8.4039 - accuracy: 0.2840\n",
      "Loss: 8.403929710388184, Accuracy: 0.2840000092983246\n"
     ]
    }
   ],
   "source": [
    "# Evaluate the model using the test data\n",
    "model_loss, model_accuracy = nn_model.evaluate(X_test_scaled,y_test,verbose=2)\n",
    "print(f\"Loss: {model_loss}, Accuracy: {model_accuracy}\")"
   ]
  },
  {
   "cell_type": "code",
   "execution_count": 13,
   "metadata": {},
   "outputs": [
    {
     "data": {
      "text/plain": [
       "array([[0],\n",
       "       [0],\n",
       "       [1],\n",
       "       [0],\n",
       "       [0],\n",
       "       [0],\n",
       "       [0],\n",
       "       [0],\n",
       "       [0],\n",
       "       [0]])"
      ]
     },
     "execution_count": 13,
     "metadata": {},
     "output_type": "execute_result"
    }
   ],
   "source": [
    "# Predict the classification of a new set of blob data\n",
    "new_X, new_Y = make_blobs(n_samples=10, centers=2, n_features=2, random_state=78)\n",
    "new_X_scaled = X_scaler.transform(new_X)\n",
    "(nn_model.predict(new_X_scaled) > 0.5).astype(\"int32\")"
   ]
  },
  {
   "cell_type": "code",
   "execution_count": 14,
   "metadata": {},
   "outputs": [
    {
     "data": {
      "text/plain": [
       "<matplotlib.axes._subplots.AxesSubplot at 0x24b1fd59d48>"
      ]
     },
     "execution_count": 14,
     "metadata": {},
     "output_type": "execute_result"
    },
    {
     "data": {
      "image/png": "[encoded data removed]",
      "text/plain": [
       "<Figure size 432x288 with 2 Axes>"
      ]
     },
     "metadata": {
      "needs_background": "light"
     },
     "output_type": "display_data"
    }
   ],
   "source": [
    "from sklearn.datasets import make_moons\n",
    "\n",
    "# Creating dummy nonlinear data\n",
    "X_moons, y_moons = make_moons(n_samples=1000, noise=0.08, random_state=78)\n",
    "\n",
    "# Transforming y_moons to a vertical vector\n",
    "y_moons = y_moons.reshape(-1, 1)\n",
    "\n",
    "# Creating a DataFrame to plot the nonlinear dummy data\n",
    "df_moons = pd.DataFrame(X_moons, columns=[\"Feature 1\", \"Feature 2\"])\n",
    "df_moons[\"Target\"] = y_moons\n",
    "\n",
    "# Plot the nonlinear dummy data\n",
    "df_moons.plot.scatter(x=\"Feature 1\",y=\"Feature 2\", c=\"Target\",colormap=\"winter\")"
   ]
  },
  {
   "cell_type": "code",
   "execution_count": 15,
   "metadata": {},
   "outputs": [],
   "source": [
    "# Create training and testing sets\n",
    "X_moon_train, X_moon_test, y_moon_train, y_moon_test = train_test_split(\n",
    "    X_moons, y_moons, random_state=78\n",
    ")\n",
    "\n",
    "# Create the scaler instance\n",
    "X_moon_scaler = skl.preprocessing.StandardScaler()\n",
    "\n",
    "# Fit the scaler\n",
    "X_moon_scaler.fit(X_moon_train)\n",
    "\n",
    "# Scale the data\n",
    "X_moon_train_scaled = X_moon_scaler.transform(X_moon_train)\n",
    "X_moon_test_scaled = X_moon_scaler.transform(X_moon_test)"
   ]
  },
  {
   "cell_type": "code",
   "execution_count": 16,
   "metadata": {},
   "outputs": [
    {
     "name": "stdout",
     "output_type": "stream",
     "text": [
      "Epoch 1/100\n",
      "24/24 [==============================] - 0s 1ms/step - loss: 7.0239 - accuracy: 0.4880\n",
      "Epoch 2/100\n",
      "24/24 [==============================] - 0s 2ms/step - loss: 7.0118 - accuracy: 0.4880\n",
      "Epoch 3/100\n",
      "24/24 [==============================] - 0s 2ms/step - loss: 7.0067 - accuracy: 0.4867\n",
      "Epoch 4/100\n",
      "24/24 [==============================] - 0s 2ms/step - loss: 7.0054 - accuracy: 0.4867\n",
      "Epoch 5/100\n",
      "24/24 [==============================] - 0s 2ms/step - loss: 7.0041 - accuracy: 0.4867\n",
      "Epoch 6/100\n",
      "24/24 [==============================] - 0s 2ms/step - loss: 7.0033 - accuracy: 0.4867\n",
      "Epoch 7/100\n",
      "24/24 [==============================] - 0s 2ms/step - loss: 6.9919 - accuracy: 0.4853\n",
      "Epoch 8/100\n",
      "24/24 [==============================] - 0s 2ms/step - loss: 6.9594 - accuracy: 0.4840\n",
      "Epoch 9/100\n",
      "24/24 [==============================] - 0s 2ms/step - loss: 6.8913 - accuracy: 0.4827\n",
      "Epoch 10/100\n",
      "24/24 [==============================] - 0s 2ms/step - loss: 6.7383 - accuracy: 0.4800\n",
      "Epoch 11/100\n",
      "24/24 [==============================] - 0s 2ms/step - loss: 6.5499 - accuracy: 0.4733\n",
      "Epoch 12/100\n",
      "24/24 [==============================] - 0s 2ms/step - loss: 6.4692 - accuracy: 0.4720\n",
      "Epoch 13/100\n",
      "24/24 [==============================] - 0s 2ms/step - loss: 6.3113 - accuracy: 0.4693\n",
      "Epoch 14/100\n",
      "24/24 [==============================] - 0s 2ms/step - loss: 6.2471 - accuracy: 0.4680\n",
      "Epoch 15/100\n",
      "24/24 [==============================] - 0s 2ms/step - loss: 5.9106 - accuracy: 0.4680\n",
      "Epoch 16/100\n",
      "24/24 [==============================] - 0s 2ms/step - loss: 5.7245 - accuracy: 0.4640\n",
      "Epoch 17/100\n",
      "24/24 [==============================] - 0s 2ms/step - loss: 5.6328 - accuracy: 0.4640\n",
      "Epoch 18/100\n",
      "24/24 [==============================] - 0s 2ms/step - loss: 5.4764 - accuracy: 0.4613\n",
      "Epoch 19/100\n",
      "24/24 [==============================] - 0s 2ms/step - loss: 5.4019 - accuracy: 0.4573\n",
      "Epoch 20/100\n",
      "24/24 [==============================] - 0s 2ms/step - loss: 5.3129 - accuracy: 0.4547\n",
      "Epoch 21/100\n",
      "24/24 [==============================] - 0s 2ms/step - loss: 5.2779 - accuracy: 0.4547\n",
      "Epoch 22/100\n",
      "24/24 [==============================] - 0s 2ms/step - loss: 5.2238 - accuracy: 0.4547\n",
      "Epoch 23/100\n",
      "24/24 [==============================] - 0s 2ms/step - loss: 5.1953 - accuracy: 0.4520\n",
      "Epoch 24/100\n",
      "24/24 [==============================] - 0s 2ms/step - loss: 5.0819 - accuracy: 0.4520\n",
      "Epoch 25/100\n",
      "24/24 [==============================] - 0s 2ms/step - loss: 5.0366 - accuracy: 0.4520\n",
      "Epoch 26/100\n",
      "24/24 [==============================] - 0s 2ms/step - loss: 4.9225 - accuracy: 0.4507\n",
      "Epoch 27/100\n",
      "24/24 [==============================] - 0s 2ms/step - loss: 4.8059 - accuracy: 0.4520\n",
      "Epoch 28/100\n",
      "24/24 [==============================] - 0s 2ms/step - loss: 4.7613 - accuracy: 0.4533\n",
      "Epoch 29/100\n",
      "24/24 [==============================] - 0s 2ms/step - loss: 4.7404 - accuracy: 0.4547\n",
      "Epoch 30/100\n",
      "24/24 [==============================] - 0s 2ms/step - loss: 4.7192 - accuracy: 0.4547\n",
      "Epoch 31/100\n",
      "24/24 [==============================] - 0s 2ms/step - loss: 4.6587 - accuracy: 0.4547\n",
      "Epoch 32/100\n",
      "24/24 [==============================] - 0s 2ms/step - loss: 4.6239 - accuracy: 0.4547\n",
      "Epoch 33/100\n",
      "24/24 [==============================] - 0s 2ms/step - loss: 4.5523 - accuracy: 0.4547\n",
      "Epoch 34/100\n",
      "24/24 [==============================] - 0s 2ms/step - loss: 4.5429 - accuracy: 0.4533\n",
      "Epoch 35/100\n",
      "24/24 [==============================] - 0s 3ms/step - loss: 4.5066 - accuracy: 0.4547\n",
      "Epoch 36/100\n",
      "24/24 [==============================] - 0s 2ms/step - loss: 4.4993 - accuracy: 0.4547\n",
      "Epoch 37/100\n",
      "24/24 [==============================] - 0s 3ms/step - loss: 4.4930 - accuracy: 0.4533\n",
      "Epoch 38/100\n",
      "24/24 [==============================] - 0s 2ms/step - loss: 4.4892 - accuracy: 0.4533\n",
      "Epoch 39/100\n",
      "24/24 [==============================] - 0s 2ms/step - loss: 4.4722 - accuracy: 0.4533\n",
      "Epoch 40/100\n",
      "24/24 [==============================] - 0s 2ms/step - loss: 4.4537 - accuracy: 0.4547\n",
      "Epoch 41/100\n",
      "24/24 [==============================] - 0s 2ms/step - loss: 4.4343 - accuracy: 0.4547\n",
      "Epoch 42/100\n",
      "24/24 [==============================] - 0s 2ms/step - loss: 4.4290 - accuracy: 0.4547\n",
      "Epoch 43/100\n",
      "24/24 [==============================] - 0s 2ms/step - loss: 4.4239 - accuracy: 0.4547\n",
      "Epoch 44/100\n",
      "24/24 [==============================] - 0s 3ms/step - loss: 4.4204 - accuracy: 0.4547\n",
      "Epoch 45/100\n",
      "24/24 [==============================] - 0s 1ms/step - loss: 4.4169 - accuracy: 0.4560\n",
      "Epoch 46/100\n",
      "24/24 [==============================] - 0s 1ms/step - loss: 4.3880 - accuracy: 0.4573\n",
      "Epoch 47/100\n",
      "24/24 [==============================] - 0s 1ms/step - loss: 4.3797 - accuracy: 0.4573\n",
      "Epoch 48/100\n",
      "24/24 [==============================] - 0s 1ms/step - loss: 4.3746 - accuracy: 0.4573\n",
      "Epoch 49/100\n",
      "24/24 [==============================] - 0s 1ms/step - loss: 4.3709 - accuracy: 0.4587\n",
      "Epoch 50/100\n",
      "24/24 [==============================] - 0s 1ms/step - loss: 4.3675 - accuracy: 0.4600\n",
      "Epoch 51/100\n",
      "24/24 [==============================] - 0s 2ms/step - loss: 4.3510 - accuracy: 0.4627\n",
      "Epoch 52/100\n",
      "24/24 [==============================] - 0s 2ms/step - loss: 4.3346 - accuracy: 0.4627\n",
      "Epoch 53/100\n",
      "24/24 [==============================] - 0s 1ms/step - loss: 4.3072 - accuracy: 0.4667\n",
      "Epoch 54/100\n",
      "24/24 [==============================] - 0s 1ms/step - loss: 4.2801 - accuracy: 0.4693\n",
      "Epoch 55/100\n",
      "24/24 [==============================] - 0s 1ms/step - loss: 4.2740 - accuracy: 0.4693\n",
      "Epoch 56/100\n",
      "24/24 [==============================] - 0s 1ms/step - loss: 4.2225 - accuracy: 0.4707\n",
      "Epoch 57/100\n",
      "24/24 [==============================] - 0s 1ms/step - loss: 4.1497 - accuracy: 0.4693\n",
      "Epoch 58/100\n",
      "24/24 [==============================] - 0s 2ms/step - loss: 4.0916 - accuracy: 0.4720\n",
      "Epoch 59/100\n",
      "24/24 [==============================] - 0s 1ms/step - loss: 4.0563 - accuracy: 0.4720\n",
      "Epoch 60/100\n",
      "24/24 [==============================] - 0s 1ms/step - loss: 4.0320 - accuracy: 0.4760\n",
      "Epoch 61/100\n",
      "24/24 [==============================] - 0s 1ms/step - loss: 4.0093 - accuracy: 0.4787\n",
      "Epoch 62/100\n",
      "24/24 [==============================] - 0s 1ms/step - loss: 3.9845 - accuracy: 0.4800\n",
      "Epoch 63/100\n",
      "24/24 [==============================] - 0s 1ms/step - loss: 3.9442 - accuracy: 0.4827\n",
      "Epoch 64/100\n",
      "24/24 [==============================] - 0s 1ms/step - loss: 3.9369 - accuracy: 0.4840\n",
      "Epoch 65/100\n",
      "24/24 [==============================] - 0s 1ms/step - loss: 3.8874 - accuracy: 0.4840\n",
      "Epoch 66/100\n",
      "24/24 [==============================] - 0s 1ms/step - loss: 3.7112 - accuracy: 0.5133\n",
      "Epoch 67/100\n",
      "24/24 [==============================] - 0s 1ms/step - loss: 3.6669 - accuracy: 0.5200\n",
      "Epoch 68/100\n",
      "24/24 [==============================] - 0s 1ms/step - loss: 3.6623 - accuracy: 0.5213\n",
      "Epoch 69/100\n",
      "24/24 [==============================] - 0s 1ms/step - loss: 3.6592 - accuracy: 0.5213\n",
      "Epoch 70/100\n",
      "24/24 [==============================] - 0s 1ms/step - loss: 3.6564 - accuracy: 0.5213\n",
      "Epoch 71/100\n",
      "24/24 [==============================] - 0s 1ms/step - loss: 3.6539 - accuracy: 0.5213\n",
      "Epoch 72/100\n",
      "24/24 [==============================] - 0s 1ms/step - loss: 3.6515 - accuracy: 0.5213\n",
      "Epoch 73/100\n",
      "24/24 [==============================] - 0s 2ms/step - loss: 3.6492 - accuracy: 0.5227\n",
      "Epoch 74/100\n",
      "24/24 [==============================] - 0s 2ms/step - loss: 3.6470 - accuracy: 0.5227\n",
      "Epoch 75/100\n",
      "24/24 [==============================] - 0s 2ms/step - loss: 3.6319 - accuracy: 0.5227\n",
      "Epoch 76/100\n",
      "24/24 [==============================] - 0s 2ms/step - loss: 3.6272 - accuracy: 0.5227\n",
      "Epoch 77/100\n",
      "24/24 [==============================] - 0s 3ms/step - loss: 3.6243 - accuracy: 0.5253\n",
      "Epoch 78/100\n",
      "24/24 [==============================] - 0s 2ms/step - loss: 3.6117 - accuracy: 0.5280\n",
      "Epoch 79/100\n",
      "24/24 [==============================] - 0s 1ms/step - loss: 3.6048 - accuracy: 0.5280\n",
      "Epoch 80/100\n",
      "24/24 [==============================] - 0s 1ms/step - loss: 3.5891 - accuracy: 0.5280\n",
      "Epoch 81/100\n",
      "24/24 [==============================] - 0s 1ms/step - loss: 3.5583 - accuracy: 0.5293\n",
      "Epoch 82/100\n",
      "24/24 [==============================] - 0s 1ms/step - loss: 3.5442 - accuracy: 0.5320\n",
      "Epoch 83/100\n"
     ]
    },
    {
     "name": "stdout",
     "output_type": "stream",
     "text": [
      "24/24 [==============================] - 0s 1ms/step - loss: 3.5405 - accuracy: 0.5320\n",
      "Epoch 84/100\n",
      "24/24 [==============================] - 0s 1ms/step - loss: 3.5377 - accuracy: 0.5333\n",
      "Epoch 85/100\n",
      "24/24 [==============================] - 0s 1ms/step - loss: 3.5352 - accuracy: 0.5333\n",
      "Epoch 86/100\n",
      "24/24 [==============================] - 0s 2ms/step - loss: 3.5330 - accuracy: 0.5333\n",
      "Epoch 87/100\n",
      "24/24 [==============================] - 0s 1ms/step - loss: 3.5308 - accuracy: 0.5347\n",
      "Epoch 88/100\n",
      "24/24 [==============================] - 0s 1ms/step - loss: 3.5287 - accuracy: 0.5347\n",
      "Epoch 89/100\n",
      "24/24 [==============================] - 0s 1ms/step - loss: 3.5042 - accuracy: 0.5373\n",
      "Epoch 90/100\n",
      "24/24 [==============================] - 0s 1ms/step - loss: 3.4544 - accuracy: 0.5413\n",
      "Epoch 91/100\n",
      "24/24 [==============================] - 0s 2ms/step - loss: 3.4467 - accuracy: 0.5427\n",
      "Epoch 92/100\n",
      "24/24 [==============================] - 0s 1ms/step - loss: 3.4422 - accuracy: 0.5427\n",
      "Epoch 93/100\n",
      "24/24 [==============================] - 0s 1ms/step - loss: 3.4383 - accuracy: 0.5427\n",
      "Epoch 94/100\n",
      "24/24 [==============================] - 0s 2ms/step - loss: 3.4352 - accuracy: 0.5427\n",
      "Epoch 95/100\n",
      "24/24 [==============================] - 0s 3ms/step - loss: 3.4324 - accuracy: 0.5427\n",
      "Epoch 96/100\n",
      "24/24 [==============================] - 0s 2ms/step - loss: 3.4294 - accuracy: 0.5427\n",
      "Epoch 97/100\n",
      "24/24 [==============================] - 0s 2ms/step - loss: 3.4271 - accuracy: 0.5427\n",
      "Epoch 98/100\n",
      "24/24 [==============================] - 0s 1ms/step - loss: 3.4247 - accuracy: 0.5440\n",
      "Epoch 99/100\n",
      "24/24 [==============================] - 0s 1ms/step - loss: 3.4222 - accuracy: 0.5440\n",
      "Epoch 100/100\n",
      "24/24 [==============================] - 0s 1ms/step - loss: 3.4201 - accuracy: 0.5440\n"
     ]
    }
   ],
   "source": [
    "# Training the model with the nonlinear data\n",
    "model_moon = nn_model.fit(X_moon_train_scaled, y_moon_train, epochs=100, shuffle=True)"
   ]
  },
  {
   "cell_type": "code",
   "execution_count": 17,
   "metadata": {},
   "outputs": [
    {
     "data": {
      "text/plain": [
       "<matplotlib.axes._subplots.AxesSubplot at 0x24b1fea0c08>"
      ]
     },
     "execution_count": 17,
     "metadata": {},
     "output_type": "execute_result"
    },
    {
     "data": {
      "image/png": "[encoded data removed]",
      "text/plain": [
       "<Figure size 432x288 with 1 Axes>"
      ]
     },
     "metadata": {
      "needs_background": "light"
     },
     "output_type": "display_data"
    }
   ],
   "source": [
    "# Create a DataFrame containing training history\n",
    "history_df = pd.DataFrame(model_moon.history, index=range(1,len(model_moon.history[\"loss\"])+1))\n",
    "\n",
    "# Plot the loss\n",
    "history_df.plot(y=\"loss\")"
   ]
  },
  {
   "cell_type": "code",
   "execution_count": 18,
   "metadata": {},
   "outputs": [
    {
     "data": {
      "text/plain": [
       "<matplotlib.axes._subplots.AxesSubplot at 0x24b1fed39c8>"
      ]
     },
     "execution_count": 18,
     "metadata": {},
     "output_type": "execute_result"
    },
    {
     "data": {
      "image/png": "[encoded data removed]",
      "text/plain": [
       "<Figure size 432x288 with 1 Axes>"
      ]
     },
     "metadata": {
      "needs_background": "light"
     },
     "output_type": "display_data"
    }
   ],
   "source": [
    "# Plot the loss\n",
    "history_df.plot(y=\"accuracy\")"
   ]
  },
  {
   "cell_type": "code",
   "execution_count": 20,
   "metadata": {},
   "outputs": [],
   "source": [
    "# Generate our new Sequential model\n",
    "new_model = tf.keras.models.Sequential()"
   ]
  },
  {
   "cell_type": "code",
   "execution_count": 21,
   "metadata": {},
   "outputs": [],
   "source": [
    "# Add the input and hidden layer\n",
    "number_inputs = 2\n",
    "number_hidden_nodes = 6\n",
    "\n",
    "new_model.add(tf.keras.layers.Dense(units=number_hidden_nodes, activation=\"relu\", input_dim=number_inputs))\n",
    "\n",
    "# Add the output layer that uses a probability activation function\n",
    "new_model.add(tf.keras.layers.Dense(units=1, activation=\"sigmoid\"))"
   ]
  },
  {
   "cell_type": "code",
   "execution_count": 22,
   "metadata": {},
   "outputs": [
    {
     "name": "stdout",
     "output_type": "stream",
     "text": [
      "Epoch 1/100\n",
      "24/24 [==============================] - 0s 940us/step - loss: 0.6259 - accuracy: 0.4702\n",
      "Epoch 2/100\n",
      "24/24 [==============================] - 0s 1ms/step - loss: 0.5874 - accuracy: 0.5344\n",
      "Epoch 3/100\n",
      "24/24 [==============================] - 0s 1ms/step - loss: 0.5301 - accuracy: 0.6768\n",
      "Epoch 4/100\n",
      "24/24 [==============================] - 0s 1ms/step - loss: 0.4956 - accuracy: 0.8058\n",
      "Epoch 5/100\n",
      "24/24 [==============================] - 0s 1ms/step - loss: 0.4741 - accuracy: 0.8679\n",
      "Epoch 6/100\n",
      "24/24 [==============================] - 0s 2ms/step - loss: 0.4523 - accuracy: 0.8572\n",
      "Epoch 7/100\n",
      "24/24 [==============================] - 0s 1ms/step - loss: 0.4335 - accuracy: 0.8500\n",
      "Epoch 8/100\n",
      "24/24 [==============================] - 0s 1ms/step - loss: 0.4141 - accuracy: 0.8765\n",
      "Epoch 9/100\n",
      "24/24 [==============================] - 0s 1ms/step - loss: 0.3853 - accuracy: 0.8838\n",
      "Epoch 10/100\n",
      "24/24 [==============================] - 0s 2ms/step - loss: 0.3557 - accuracy: 0.8932\n",
      "Epoch 11/100\n",
      "24/24 [==============================] - 0s 2ms/step - loss: 0.3528 - accuracy: 0.8868\n",
      "Epoch 12/100\n",
      "24/24 [==============================] - 0s 1ms/step - loss: 0.3301 - accuracy: 0.9088\n",
      "Epoch 13/100\n",
      "24/24 [==============================] - 0s 1ms/step - loss: 0.3373 - accuracy: 0.8923\n",
      "Epoch 14/100\n",
      "24/24 [==============================] - 0s 2ms/step - loss: 0.3453 - accuracy: 0.8754\n",
      "Epoch 15/100\n",
      "24/24 [==============================] - 0s 1ms/step - loss: 0.3237 - accuracy: 0.8995\n",
      "Epoch 16/100\n",
      "24/24 [==============================] - 0s 1ms/step - loss: 0.3224 - accuracy: 0.8813\n",
      "Epoch 17/100\n",
      "24/24 [==============================] - 0s 1ms/step - loss: 0.3163 - accuracy: 0.8795\n",
      "Epoch 18/100\n",
      "24/24 [==============================] - 0s 1ms/step - loss: 0.2964 - accuracy: 0.8903\n",
      "Epoch 19/100\n",
      "24/24 [==============================] - 0s 1ms/step - loss: 0.2903 - accuracy: 0.9000\n",
      "Epoch 20/100\n",
      "24/24 [==============================] - 0s 1ms/step - loss: 0.2857 - accuracy: 0.8997\n",
      "Epoch 21/100\n",
      "24/24 [==============================] - 0s 1ms/step - loss: 0.2789 - accuracy: 0.8955\n",
      "Epoch 22/100\n",
      "24/24 [==============================] - 0s 1ms/step - loss: 0.2831 - accuracy: 0.8836\n",
      "Epoch 23/100\n",
      "24/24 [==============================] - 0s 1ms/step - loss: 0.2697 - accuracy: 0.9047\n",
      "Epoch 24/100\n",
      "24/24 [==============================] - 0s 1ms/step - loss: 0.2614 - accuracy: 0.9051\n",
      "Epoch 25/100\n",
      "24/24 [==============================] - 0s 1ms/step - loss: 0.2704 - accuracy: 0.8914\n",
      "Epoch 26/100\n",
      "24/24 [==============================] - 0s 1ms/step - loss: 0.2829 - accuracy: 0.8934\n",
      "Epoch 27/100\n",
      "24/24 [==============================] - 0s 1ms/step - loss: 0.2777 - accuracy: 0.8953\n",
      "Epoch 28/100\n",
      "24/24 [==============================] - 0s 1ms/step - loss: 0.2777 - accuracy: 0.8955\n",
      "Epoch 29/100\n",
      "24/24 [==============================] - 0s 1ms/step - loss: 0.2726 - accuracy: 0.8968\n",
      "Epoch 30/100\n",
      "24/24 [==============================] - 0s 1ms/step - loss: 0.2492 - accuracy: 0.9146\n",
      "Epoch 31/100\n",
      "24/24 [==============================] - 0s 2ms/step - loss: 0.2644 - accuracy: 0.9019\n",
      "Epoch 32/100\n",
      "24/24 [==============================] - 0s 2ms/step - loss: 0.2364 - accuracy: 0.9130\n",
      "Epoch 33/100\n",
      "24/24 [==============================] - 0s 1ms/step - loss: 0.2692 - accuracy: 0.8954\n",
      "Epoch 34/100\n",
      "24/24 [==============================] - 0s 997us/step - loss: 0.2484 - accuracy: 0.9037\n",
      "Epoch 35/100\n",
      "24/24 [==============================] - 0s 910us/step - loss: 0.2677 - accuracy: 0.9025\n",
      "Epoch 36/100\n",
      "24/24 [==============================] - 0s 780us/step - loss: 0.2642 - accuracy: 0.8955\n",
      "Epoch 37/100\n",
      "24/24 [==============================] - 0s 737us/step - loss: 0.2531 - accuracy: 0.8989\n",
      "Epoch 38/100\n",
      "24/24 [==============================] - 0s 694us/step - loss: 0.2850 - accuracy: 0.8797\n",
      "Epoch 39/100\n",
      "24/24 [==============================] - 0s 737us/step - loss: 0.2653 - accuracy: 0.8970\n",
      "Epoch 40/100\n",
      "24/24 [==============================] - 0s 824us/step - loss: 0.2698 - accuracy: 0.8960\n",
      "Epoch 41/100\n",
      "24/24 [==============================] - 0s 954us/step - loss: 0.2636 - accuracy: 0.8963\n",
      "Epoch 42/100\n",
      "24/24 [==============================] - 0s 796us/step - loss: 0.2423 - accuracy: 0.9049\n",
      "Epoch 43/100\n",
      "24/24 [==============================] - 0s 824us/step - loss: 0.2584 - accuracy: 0.8979\n",
      "Epoch 44/100\n",
      "24/24 [==============================] - 0s 780us/step - loss: 0.2296 - accuracy: 0.9216\n",
      "Epoch 45/100\n",
      "24/24 [==============================] - 0s 1ms/step - loss: 0.2315 - accuracy: 0.9137\n",
      "Epoch 46/100\n",
      "24/24 [==============================] - 0s 911us/step - loss: 0.2234 - accuracy: 0.9195\n",
      "Epoch 47/100\n",
      "24/24 [==============================] - 0s 867us/step - loss: 0.2671 - accuracy: 0.8974\n",
      "Epoch 48/100\n",
      "24/24 [==============================] - 0s 868us/step - loss: 0.2452 - accuracy: 0.9093\n",
      "Epoch 49/100\n",
      "24/24 [==============================] - 0s 954us/step - loss: 0.2601 - accuracy: 0.8908\n",
      "Epoch 50/100\n",
      "24/24 [==============================] - 0s 824us/step - loss: 0.2460 - accuracy: 0.9099\n",
      "Epoch 51/100\n",
      "24/24 [==============================] - 0s 825us/step - loss: 0.2593 - accuracy: 0.8918\n",
      "Epoch 52/100\n",
      "24/24 [==============================] - 0s 780us/step - loss: 0.2315 - accuracy: 0.9182\n",
      "Epoch 53/100\n",
      "24/24 [==============================] - 0s 737us/step - loss: 0.2593 - accuracy: 0.9004\n",
      "Epoch 54/100\n",
      "24/24 [==============================] - 0s 737us/step - loss: 0.2490 - accuracy: 0.8939\n",
      "Epoch 55/100\n",
      "24/24 [==============================] - 0s 824us/step - loss: 0.2411 - accuracy: 0.9046\n",
      "Epoch 56/100\n",
      "24/24 [==============================] - 0s 824us/step - loss: 0.2438 - accuracy: 0.9106\n",
      "Epoch 57/100\n",
      "24/24 [==============================] - 0s 780us/step - loss: 0.2639 - accuracy: 0.8956\n",
      "Epoch 58/100\n",
      "24/24 [==============================] - 0s 781us/step - loss: 0.2651 - accuracy: 0.8894\n",
      "Epoch 59/100\n",
      "24/24 [==============================] - 0s 824us/step - loss: 0.2433 - accuracy: 0.9004\n",
      "Epoch 60/100\n",
      "24/24 [==============================] - 0s 1ms/step - loss: 0.2398 - accuracy: 0.9066\n",
      "Epoch 61/100\n",
      "24/24 [==============================] - 0s 954us/step - loss: 0.2409 - accuracy: 0.9060\n",
      "Epoch 62/100\n",
      "24/24 [==============================] - 0s 1ms/step - loss: 0.2434 - accuracy: 0.9007\n",
      "Epoch 63/100\n",
      "24/24 [==============================] - 0s 1ms/step - loss: 0.2412 - accuracy: 0.9045\n",
      "Epoch 64/100\n",
      "24/24 [==============================] - 0s 1ms/step - loss: 0.2398 - accuracy: 0.9077\n",
      "Epoch 65/100\n",
      "24/24 [==============================] - 0s 912us/step - loss: 0.2460 - accuracy: 0.9003\n",
      "Epoch 66/100\n",
      "24/24 [==============================] - 0s 910us/step - loss: 0.2381 - accuracy: 0.9005\n",
      "Epoch 67/100\n",
      "24/24 [==============================] - 0s 1ms/step - loss: 0.2159 - accuracy: 0.9171\n",
      "Epoch 68/100\n",
      "24/24 [==============================] - 0s 824us/step - loss: 0.2340 - accuracy: 0.9106\n",
      "Epoch 69/100\n",
      "24/24 [==============================] - 0s 737us/step - loss: 0.2484 - accuracy: 0.8915\n",
      "Epoch 70/100\n",
      "24/24 [==============================] - 0s 781us/step - loss: 0.2447 - accuracy: 0.8952\n",
      "Epoch 71/100\n",
      "24/24 [==============================] - 0s 782us/step - loss: 0.2477 - accuracy: 0.8966\n",
      "Epoch 72/100\n",
      "24/24 [==============================] - 0s 824us/step - loss: 0.2434 - accuracy: 0.8943\n",
      "Epoch 73/100\n",
      "24/24 [==============================] - 0s 780us/step - loss: 0.2709 - accuracy: 0.8866\n",
      "Epoch 74/100\n",
      "24/24 [==============================] - 0s 825us/step - loss: 0.2253 - accuracy: 0.9077\n",
      "Epoch 75/100\n",
      "24/24 [==============================] - 0s 895us/step - loss: 0.2225 - accuracy: 0.9082\n",
      "Epoch 76/100\n",
      "24/24 [==============================] - 0s 824us/step - loss: 0.2456 - accuracy: 0.8952\n",
      "Epoch 77/100\n",
      "24/24 [==============================] - 0s 868us/step - loss: 0.2267 - accuracy: 0.9057\n",
      "Epoch 78/100\n",
      "24/24 [==============================] - 0s 954us/step - loss: 0.2492 - accuracy: 0.8948\n",
      "Epoch 79/100\n",
      "24/24 [==============================] - 0s 910us/step - loss: 0.2471 - accuracy: 0.8928\n",
      "Epoch 80/100\n",
      "24/24 [==============================] - 0s 911us/step - loss: 0.2229 - accuracy: 0.9162\n",
      "Epoch 81/100\n",
      "24/24 [==============================] - 0s 867us/step - loss: 0.2531 - accuracy: 0.8969\n",
      "Epoch 82/100\n",
      "24/24 [==============================] - 0s 911us/step - loss: 0.2269 - accuracy: 0.9063\n",
      "Epoch 83/100\n",
      "24/24 [==============================] - 0s 868us/step - loss: 0.2312 - accuracy: 0.8984\n",
      "Epoch 84/100\n",
      "24/24 [==============================] - 0s 867us/step - loss: 0.2135 - accuracy: 0.9112\n",
      "Epoch 85/100\n",
      "24/24 [==============================] - 0s 911us/step - loss: 0.2579 - accuracy: 0.8890\n",
      "Epoch 86/100\n",
      "24/24 [==============================] - 0s 911us/step - loss: 0.2364 - accuracy: 0.8986\n",
      "Epoch 87/100\n",
      "24/24 [==============================] - 0s 868us/step - loss: 0.2280 - accuracy: 0.9136\n",
      "Epoch 88/100\n",
      "24/24 [==============================] - 0s 867us/step - loss: 0.2324 - accuracy: 0.8914\n",
      "Epoch 89/100\n",
      "24/24 [==============================] - 0s 825us/step - loss: 0.2369 - accuracy: 0.9009\n",
      "Epoch 90/100\n",
      "24/24 [==============================] - 0s 868us/step - loss: 0.2523 - accuracy: 0.8881\n",
      "Epoch 91/100\n",
      "24/24 [==============================] - 0s 867us/step - loss: 0.2092 - accuracy: 0.9186\n",
      "Epoch 92/100\n",
      "24/24 [==============================] - 0s 826us/step - loss: 0.2072 - accuracy: 0.9203\n",
      "Epoch 93/100\n",
      "24/24 [==============================] - 0s 868us/step - loss: 0.2138 - accuracy: 0.9131\n",
      "Epoch 94/100\n",
      "24/24 [==============================] - 0s 912us/step - loss: 0.2044 - accuracy: 0.9169\n",
      "Epoch 95/100\n",
      "24/24 [==============================] - 0s 824us/step - loss: 0.2377 - accuracy: 0.8949\n",
      "Epoch 96/100\n",
      "24/24 [==============================] - 0s 909us/step - loss: 0.2200 - accuracy: 0.9088\n",
      "Epoch 97/100\n",
      "24/24 [==============================] - 0s 911us/step - loss: 0.2257 - accuracy: 0.9124\n",
      "Epoch 98/100\n",
      "24/24 [==============================] - 0s 867us/step - loss: 0.2158 - accuracy: 0.9170\n",
      "Epoch 99/100\n",
      "24/24 [==============================] - 0s 955us/step - loss: 0.2366 - accuracy: 0.9071\n",
      "Epoch 100/100\n",
      "24/24 [==============================] - 0s 867us/step - loss: 0.2213 - accuracy: 0.9045\n"
     ]
    }
   ],
   "source": [
    "# Compile the Sequential model together and customize metrics\n",
    "new_model.compile(loss=\"binary_crossentropy\", optimizer=\"adam\", metrics=[\"accuracy\"])\n",
    "\n",
    "# Fit the model to the training data\n",
    "new_fit_model = new_model.fit(X_moon_train_scaled, y_moon_train, epochs=100, shuffle=True)"
   ]
  },
  {
   "cell_type": "markdown",
   "metadata": {},
   "source": [
    "## Checkpoint"
   ]
  },
  {
   "cell_type": "code",
   "execution_count": 23,
   "metadata": {},
   "outputs": [],
   "source": [
    "# Import checkpoint dependencies\n",
    "import os\n",
    "from tensorflow.keras.callbacks import ModelCheckpoint\n",
    "\n",
    "# Define the checkpoint path and filenames\n",
    "os.makedirs(\"checkpoints/\",exist_ok=True)\n",
    "checkpoint_path = \"checkpoints/weights.{epoch:02d}.hdf5\""
   ]
  },
  {
   "cell_type": "code",
   "execution_count": 24,
   "metadata": {},
   "outputs": [
    {
     "ename": "NameError",
     "evalue": "name 'nn' is not defined",
     "output_type": "error",
     "traceback": [
      "\u001b[1;31m---------------------------------------------------------------------------\u001b[0m",
      "\u001b[1;31mNameError\u001b[0m                                 Traceback (most recent call last)",
      "\u001b[1;32m<ipython-input-24-0a69a8fc5690>\u001b[0m in \u001b[0;36m<module>\u001b[1;34m\u001b[0m\n\u001b[0;32m      1\u001b[0m \u001b[1;31m# Compile the model\u001b[0m\u001b[1;33m\u001b[0m\u001b[1;33m\u001b[0m\u001b[1;33m\u001b[0m\u001b[0m\n\u001b[1;32m----> 2\u001b[1;33m \u001b[0mnn\u001b[0m\u001b[1;33m.\u001b[0m\u001b[0mcompile\u001b[0m\u001b[1;33m(\u001b[0m\u001b[0mloss\u001b[0m\u001b[1;33m=\u001b[0m\u001b[1;34m\"binary_crossentropy\"\u001b[0m\u001b[1;33m,\u001b[0m \u001b[0moptimizer\u001b[0m\u001b[1;33m=\u001b[0m\u001b[1;34m\"adam\"\u001b[0m\u001b[1;33m,\u001b[0m \u001b[0mmetrics\u001b[0m\u001b[1;33m=\u001b[0m\u001b[1;33m[\u001b[0m\u001b[1;34m\"accuracy\"\u001b[0m\u001b[1;33m]\u001b[0m\u001b[1;33m)\u001b[0m\u001b[1;33m\u001b[0m\u001b[1;33m\u001b[0m\u001b[0m\n\u001b[0m\u001b[0;32m      3\u001b[0m \u001b[1;33m\u001b[0m\u001b[0m\n\u001b[0;32m      4\u001b[0m \u001b[1;31m# Create a callback that saves the model's weights every 5 epochs\u001b[0m\u001b[1;33m\u001b[0m\u001b[1;33m\u001b[0m\u001b[1;33m\u001b[0m\u001b[0m\n\u001b[0;32m      5\u001b[0m cp_callback = ModelCheckpoint(\n",
      "\u001b[1;31mNameError\u001b[0m: name 'nn' is not defined"
     ]
    }
   ],
   "source": [
    "# Compile the model\n",
    "nn.compile(loss=\"binary_crossentropy\", optimizer=\"adam\", metrics=[\"accuracy\"])\n",
    "\n",
    "# Create a callback that saves the model's weights every 5 epochs\n",
    "cp_callback = ModelCheckpoint(\n",
    "    filepath=checkpoint_path,\n",
    "    verbose=1,\n",
    "    save_weights_only=True,\n",
    "    save_freq=1000)\n",
    "\n",
    "# Train the model\n",
    "fit_model = nn.fit(X_train_scaled,y_train,epochs=100,callbacks=[cp_callback])\n",
    "\n",
    "# Evaluate the model using the test data\n",
    "model_loss, model_accuracy = nn.evaluate(X_test_scaled,y_test,verbose=2)\n",
    "print(f\"Loss: {model_loss}, Accuracy: {model_accuracy}\")"
   ]
  },
  {
   "cell_type": "code",
   "execution_count": null,
   "metadata": {},
   "outputs": [],
   "source": [
    "# Define the model - deep neural net\n",
    "number_input_features = len(X_train[0])\n",
    "hidden_nodes_layer1 =  8\n",
    "hidden_nodes_layer2 = 5\n",
    "\n",
    "nn_new = tf.keras.models.Sequential()\n",
    "\n",
    "# First hidden layer\n",
    "nn_new.add(\n",
    "    tf.keras.layers.Dense(units=hidden_nodes_layer1, input_dim=number_input_features, activation=\"relu\")\n",
    ")\n",
    "\n",
    "# Second hidden layer\n",
    "nn_new.add(tf.keras.layers.Dense(units=hidden_nodes_layer2, activation=\"relu\"))\n",
    "\n",
    "# Output layer\n",
    "nn_new.add(tf.keras.layers.Dense(units=1, activation=\"sigmoid\"))\n",
    "\n",
    "# Compile the model\n",
    "nn_new.compile(loss=\"binary_crossentropy\", optimizer=\"adam\", metrics=[\"accuracy\"])\n",
    "\n",
    "# Restore the model weights\n",
    "nn_new.load_weights(\"checkpoints/weights.100.hdf5\")\n",
    "\n",
    "# Evaluate the model using the test data\n",
    "model_loss, model_accuracy = nn_new.evaluate(X_test_scaled,y_test,verbose=2)\n",
    "print(f\"Loss: {model_loss}, Accuracy: {model_accuracy}\")"
   ]
  },
  {
   "cell_type": "code",
   "execution_count": null,
   "metadata": {},
   "outputs": [],
   "source": [
    "# Export our model to HDF5 file\n",
    "nn_new.save(\"trained_attrition.h5\")"
   ]
  },
  {
   "cell_type": "code",
   "execution_count": null,
   "metadata": {},
   "outputs": [],
   "source": [
    "# Evaluate the model using the test data\n",
    "model_loss, model_accuracy = nn_new.evaluate(X_test_scaled,y_test,verbose=2)\n",
    "print(f\"Loss: {model_loss}, Accuracy: {model_accuracy}\")"
   ]
  },
  {
   "cell_type": "code",
   "execution_count": null,
   "metadata": {},
   "outputs": [],
   "source": []
  },
  {
   "cell_type": "code",
   "execution_count": null,
   "metadata": {},
   "outputs": [],
   "source": []
  }
 ],
 "metadata": {
  "kernelspec": {
   "display_name": "mlenv",
   "language": "python",
   "name": "mlenv"
  },
  "language_info": {
   "codemirror_mode": {
    "name": "ipython",
    "version": 3
   },
   "file_extension": ".py",
   "mimetype": "text/x-python",
   "name": "python",
   "nbconvert_exporter": "python",
   "pygments_lexer": "ipython3",
   "version": "3.7.7"
  }
 },
 "nbformat": 4,
 "nbformat_minor": 4
}
